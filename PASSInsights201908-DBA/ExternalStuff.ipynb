{
    "metadata": {
        "kernelspec": {
            "name": "SQL",
            "display_name": "SQL",
            "language": "sql"
        },
        "language_info": {
            "name": "sql",
            "version": ""
        }
    },
    "nbformat_minor": 2,
    "nbformat": 4,
    "cells": [
        {
            "cell_type": "markdown",
            "source": [
                "# 🛫 External Stuff"
            ],
            "metadata": {
                "azdata_cell_guid": "cf764d19-bbd2-4673-b4ed-42f9ad73c324"
            }
        },
        {
            "cell_type": "markdown",
            "source": [
                "## 🚗 DMVs"
            ],
            "metadata": {
                "azdata_cell_guid": "ed3813f8-1e71-4af6-b23f-761045cc2521"
            }
        },
        {
            "cell_type": "code",
            "source": [
                "set nocount on; \n",
                "select * from sys.database_scoped_credentials;\n",
                "select * from sys.external_data_sources;\n",
                "select * from sys.external_file_formats;"
            ],
            "metadata": {
                "azdata_cell_guid": "992eb144-2822-4d46-a058-5856903fdf6b"
            },
            "outputs": [],
            "execution_count": 8
        },
        {
            "cell_type": "markdown",
            "source": [
                "## ⚓ Infrastructure"
            ],
            "metadata": {
                "azdata_cell_guid": "69e0a8ef-b5cb-4877-8c7c-da8b718692c3"
            }
        },
        {
            "cell_type": "code",
            "source": [
                "if exists (select 1 from sys.external_file_formats where name ='parquet_file')      drop external file format parquet_ff;\r\n",
                "if exists (select 1 from sys.external_file_formats where name ='csv2')              drop external file format csv2_ff;\r\n",
                "if exists (select 1 from sys.external_file_formats where name ='csv')               drop external file format csv_ff;\r\n",
                "if exists (select 1 from sys.external_data_sources where name ='MyAzureStorage')    drop external data source hiramblob_ds;\r\n",
                "if exists (select 1 from sys.database_scoped_credentials where name ='AzureStorageCredential')  drop database scoped credential hiramblob_cred;"
            ],
            "metadata": {
                "azdata_cell_guid": "851b546e-44c6-4540-89bd-371e36cf801a"
            },
            "outputs": [],
            "execution_count": 7
        },
        {
            "cell_type": "code",
            "source": [
                "create database scoped credential hiramblob_cred\r\n",
                "with \r\n",
                "     identity = 'sqlva4onabrnvvfrkw',\r\n",
                "     secret = 'mykey' --mykey\r\n",
                ";\r\n",
                "\r\n",
                "create external data source hiramblob_ds\r\n",
                "with (    \r\n",
                "    location = 'wasbs://hiramblob@sqlva4onabrnvvfrkw.blob.core.windows.net/',\r\n",
                "    credential = hiramblob_cred,\r\n",
                "    type = HADOOP\r\n",
                ");"
            ],
            "metadata": {
                "azdata_cell_guid": "7e236065-85e9-4f52-8888-4422578e3dc3"
            },
            "outputs": [
                {
                    "output_type": "display_data",
                    "data": {
                        "text/html": "Commands completed successfully."
                    },
                    "metadata": {}
                },
                {
                    "output_type": "display_data",
                    "data": {
                        "text/html": "Total execution time: 00:00:00.198"
                    },
                    "metadata": {}
                }
            ],
            "execution_count": 9
        },
        {
            "cell_type": "markdown",
            "source": [
                "## 📝 Files"
            ],
            "metadata": {
                "azdata_cell_guid": "40063537-695d-49a2-a2bc-0855471ef849"
            }
        },
        {
            "cell_type": "code",
            "source": [
                "if exists (select 1 from sys.external_file_formats where name = 'parquet_ff') drop external file format parquet_ff;\r\n",
                "create external file format parquet_ff\r\n",
                "with (\r\n",
                "    format_type = parquet,  \r\n",
                "    data_compression = 'org.apache.hadoop.io.compress.SnappyCodec'  \r\n",
                ");\r\n",
                "\r\n",
                "if exists (select 1 from sys.external_file_formats where name = 'csv2_ff') drop external file format csv2_ff;\r\n",
                "create external file format csv2_ff\r\n",
                "with (\r\n",
                "    format_type = delimitedtext,\r\n",
                "    format_options(\r\n",
                "        field_terminator = ',',\r\n",
                "        string_delimiter = '\"',\r\n",
                "        first_row = 2, \r\n",
                "        use_type_default = true\r\n",
                "    )\r\n",
                ");\r\n",
                "\r\n",
                "if exists (select 1 from sys.external_file_formats where name = 'csv_ff') drop external file format csv_ff;\r\n",
                "create external file format csv_ff\r\n",
                "with (\r\n",
                "    format_type = delimitedtext,\r\n",
                "    format_options(\r\n",
                "        field_terminator = ',',\r\n",
                "        string_delimiter = '\"',\r\n",
                "        use_type_default = true\r\n",
                "    )\r\n",
                ");"
            ],
            "metadata": {
                "azdata_cell_guid": "a91caf9a-dfc9-4763-87fd-a8bbc4f13b3b"
            },
            "outputs": [
                {
                    "output_type": "display_data",
                    "data": {
                        "text/html": "Commands completed successfully."
                    },
                    "metadata": {}
                },
                {
                    "output_type": "display_data",
                    "data": {
                        "text/html": "Total execution time: 00:00:00.276"
                    },
                    "metadata": {}
                }
            ],
            "execution_count": 10
        },
        {
            "cell_type": "markdown",
            "source": [
                "## 🎁 CETAS - Create External Table As Select (outbound)"
            ],
            "metadata": {
                "azdata_cell_guid": "e4d16f12-8106-4346-ac93-2e59e1d4441a"
            }
        },
        {
            "cell_type": "code",
            "source": [
                "if exists (select * from sys.external_tables where name ='demoparquet')\r\n",
                "begin \r\n",
                "    drop external table demoparquet;\r\n",
                "end;\r\n",
                "if exists (select * from sys.external_tables where name ='extBand')\r\n",
                "begin \r\n",
                "    drop external table extBand;\r\n",
                "end;\r\n",
                "if exists (select * from sys.external_tables where name ='extBand2')\r\n",
                "begin \r\n",
                "    drop external table extBand2;\r\n",
                "end;"
            ],
            "metadata": {
                "azdata_cell_guid": "e2313e9e-1033-4a91-a2eb-bd421557271c"
            },
            "outputs": [],
            "execution_count": 0
        },
        {
            "cell_type": "code",
            "source": [
                "create external table demoparquet (\r\n",
                "    BandId  int,\r\n",
                "    Band    nvarchar(50),\r\n",
                "    Album   nvarchar(50)\r\n",
                ")\r\n",
                "with (   \r\n",
                "    location = 'demoparquet',  \r\n",
                "    data_source = hiramblob_ds,  \r\n",
                "    file_format = parquet_ff  \r\n",
                ")\r\n",
                "as \r\n",
                "    select * from dbo.Band;\r\n",
                "go\r\n",
                "\r\n",
                "create external table extBand\r\n",
                "with (   \r\n",
                "    location = 'extBand',  \r\n",
                "    data_source = hiramblob_ds,  \r\n",
                "    file_format = csv_ff  \r\n",
                ")\r\n",
                "as \r\n",
                "    select * from dbo.Band;\r\n",
                "go\r\n",
                "\r\n",
                "create external table extBand2\r\n",
                "with (   \r\n",
                "    location = 'extBand2',  \r\n",
                "    data_source = hiramblob_ds,  \r\n",
                "    file_format = csv2_ff  \r\n",
                ")\r\n",
                "as \r\n",
                "select * from dbo.Band;"
            ],
            "metadata": {
                "azdata_cell_guid": "b58fa081-4826-4870-ba0f-97b1830c730f"
            },
            "outputs": [],
            "execution_count": 0
        },
        {
            "cell_type": "code",
            "source": [
                "exec sp_spaceused Band;\r\n",
                "select count(*) from extBand;\r\n",
                "select count(*) from extBand2;"
            ],
            "metadata": {
                "azdata_cell_guid": "197c0c67-c60a-419d-a6c5-68dc4525bd14"
            },
            "outputs": [],
            "execution_count": 0
        },
        {
            "cell_type": "markdown",
            "source": [
                "## 🔎 CTAS - Create Table As Select (inboud)\r\n",
                "##### https://github.com/microsoft/sql-server-samples/tree/master/samples/features/sql-big-data-cluster/data-virtualization/storage-pool"
            ],
            "metadata": {
                "azdata_cell_guid": "adf20406-2e9f-4ad2-b358-3780ea578d7b"
            }
        },
        {
            "cell_type": "code",
            "source": [
                "if exists (select * from sys.external_tables where name ='ctasBand')\r\n",
                "begin \r\n",
                "    drop external table ctasBand;\r\n",
                "end;"
            ],
            "metadata": {
                "azdata_cell_guid": "b4748d45-b0ed-4413-9797-fff0721ce194"
            },
            "outputs": [],
            "execution_count": 0
        },
        {
            "cell_type": "code",
            "source": [
                "create external table ctasBand (\r\n",
                "    BandId  int,\r\n",
                "    Band    nvarchar(50),\r\n",
                "    Album   nvarchar(50)\r\n",
                ")\r\n",
                "with (\r\n",
                "    datasource = hiramblob_ds,\r\n",
                "    location = '/extBand',\r\n",
                "    file_format = csv2_ff\r\n",
                ");"
            ],
            "metadata": {
                "azdata_cell_guid": "3ca5f38d-8e56-4a31-910c-0dc37eeeb41e"
            },
            "outputs": [],
            "execution_count": 0
        },
        {
            "cell_type": "code",
            "source": [
                "exec sp_spaceused ctasBand;\r\n",
                "select count(*) from ctasBand;"
            ],
            "metadata": {
                "azdata_cell_guid": "fe9a936c-09a7-451b-aaf3-a7ebf0006f2b"
            },
            "outputs": [],
            "execution_count": 0
        }
    ]
}