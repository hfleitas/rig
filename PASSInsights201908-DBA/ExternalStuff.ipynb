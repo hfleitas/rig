{
    "metadata": {
        "kernelspec": {
            "name": "SQL",
            "display_name": "SQL",
            "language": "sql"
        },
        "language_info": {
            "name": "sql",
            "version": ""
        }
    },
    "nbformat_minor": 2,
    "nbformat": 4,
    "cells": [
        {
            "cell_type": "markdown",
            "source": [
                "# 🛫 External Stuff"
            ],
            "metadata": {
                "azdata_cell_guid": "cf764d19-bbd2-4673-b4ed-42f9ad73c324"
            }
        },
        {
            "cell_type": "markdown",
            "source": [
                "## 🚗 DMVs"
            ],
            "metadata": {
                "azdata_cell_guid": "ed3813f8-1e71-4af6-b23f-761045cc2521"
            }
        },
        {
            "cell_type": "code",
            "source": [
                "set nocount on; \n",
                "select * from sys.database_scoped_credentials;\n",
                "select * from sys.external_data_sources;\n",
                "select * from sys.external_file_formats;\n",
                "select * from sys.external_tables;"
            ],
            "metadata": {
                "azdata_cell_guid": "992eb144-2822-4d46-a058-5856903fdf6b"
            },
            "outputs": [],
            "execution_count": 121
        },
        {
            "cell_type": "markdown",
            "source": [
                "## ⚓ Infrastructure "
            ],
            "metadata": {
                "azdata_cell_guid": "69e0a8ef-b5cb-4877-8c7c-da8b718692c3"
            }
        },
        {
            "cell_type": "code",
            "source": [
                "if exists (select * from sys.external_tables where name ='extBand1') drop external table extBand1;\r\n",
                "if exists (select * from sys.external_tables where name ='extBand2') drop external table extBand2;\r\n",
                "if exists (select * from sys.external_tables where name ='extBand3') drop external table extBand3;\r\n",
                "if exists (select * from sys.external_tables where name ='cetasBand') drop external table cetasBand;\r\n",
                "if exists (select * from sys.external_tables where name ='cetasDevs') drop external table cetasDevs;\r\n",
                "\r\n",
                "if exists (select 1 from sys.external_file_formats where name ='parquet_ff')            drop external file format parquet_ff;\r\n",
                "if exists (select 1 from sys.external_file_formats where name ='csv2_ff')               drop external file format csv2_ff;\r\n",
                "if exists (select 1 from sys.external_file_formats where name ='csv_ff')                drop external file format csv_ff;\r\n",
                "if exists (select 1 from sys.external_data_sources where name ='hiramblob_ds')          drop external data source hiramblob_ds;\r\n",
                "if exists (select 1 from sys.database_scoped_credentials where name ='hiramblob_cred')  drop database scoped credential hiramblob_cred;"
            ],
            "metadata": {
                "azdata_cell_guid": "851b546e-44c6-4540-89bd-371e36cf801a"
            },
            "outputs": [
                {
                    "output_type": "display_data",
                    "data": {
                        "text/html": "Commands completed successfully."
                    },
                    "metadata": {}
                },
                {
                    "output_type": "display_data",
                    "data": {
                        "text/html": "Total execution time: 00:00:02.135"
                    },
                    "metadata": {}
                }
            ],
            "execution_count": 139
        },
        {
            "cell_type": "markdown",
            "source": [
                "## 🐱‍👤 Don't forget my 🔑"
            ],
            "metadata": {
                "azdata_cell_guid": "2d5c1560-3dd5-4b3e-b6a7-f4945356ae73"
            }
        },
        {
            "cell_type": "code",
            "source": [
                "create database scoped credential hiramblob_cred\r\n",
                "with \r\n",
                "     identity = 'sqlva4onabrnvvfrkw',\r\n",
                "     secret = 'FbSXN7aosiHHgy9qmvVMZsQXMg1YIdoocMTIaVrUJKt+dr+U1SjLju9advAdsnbv/m8dcmqLqJwyDkyFR/uNAA==' --mykey\r\n",
                ";\r\n",
                "\r\n",
                "create external data source hiramblob_ds\r\n",
                "with (    \r\n",
                "    location = 'wasbs://hiramblob@sqlva4onabrnvvfrkw.blob.core.windows.net/',\r\n",
                "    credential = hiramblob_cred,\r\n",
                "    type = HADOOP\r\n",
                ");"
            ],
            "metadata": {
                "azdata_cell_guid": "7e236065-85e9-4f52-8888-4422578e3dc3",
                "tags": []
            },
            "outputs": [],
            "execution_count": 123
        },
        {
            "cell_type": "markdown",
            "source": [
                "## abfs uri for gen2"
            ],
            "metadata": {
                "azdata_cell_guid": "da21054a-9ef9-4ee0-af03-4d05e0a531de"
            }
        },
        {
            "cell_type": "code",
            "source": [
                "create database scoped credential lakehiram_cred\r\n",
                "with \r\n",
                "     identity = 'lakehiram',\r\n",
                "     secret = '' --mykey\r\n",
                ";\r\n",
                "\r\n",
                "create external data source lakehiram_prod\r\n",
                "with (    \r\n",
                "    location = 'abfss://prod@lakehiram.dfs.core.windows.net/',\r\n",
                "    credential = lakehiram_cred,\r\n",
                "    type = HADOOP\r\n",
                ");"
            ],
            "metadata": {
                "azdata_cell_guid": "8f910975-2274-4947-93c0-5ad4b3918ad0"
            },
            "outputs": [
                {
                    "output_type": "display_data",
                    "data": {
                        "text/html": "Commands completed successfully."
                    },
                    "metadata": {}
                },
                {
                    "output_type": "display_data",
                    "data": {
                        "text/html": "Total execution time: 00:00:00.249"
                    },
                    "metadata": {}
                }
            ],
            "execution_count": 1
        },
        {
            "cell_type": "markdown",
            "source": [
                "## 📝 Files Formats"
            ],
            "metadata": {
                "azdata_cell_guid": "40063537-695d-49a2-a2bc-0855471ef849"
            }
        },
        {
            "cell_type": "code",
            "source": [
                "if exists (select 1 from sys.external_file_formats where name = 'parquet_ff') drop external file format parquet_ff;\r\n",
                "create external file format parquet_ff\r\n",
                "with (\r\n",
                "    format_type = parquet,  \r\n",
                "    data_compression = 'org.apache.hadoop.io.compress.SnappyCodec'  \r\n",
                ");\r\n",
                "\r\n",
                "if exists (select 1 from sys.external_file_formats where name = 'csv2_ff') drop external file format csv2_ff;\r\n",
                "create external file format csv2_ff\r\n",
                "with (\r\n",
                "    format_type = delimitedtext,\r\n",
                "    format_options(\r\n",
                "        field_terminator = ',',\r\n",
                "        string_delimiter = '\"',\r\n",
                "        first_row = 2, \r\n",
                "        use_type_default = true\r\n",
                "    )\r\n",
                ");\r\n",
                "\r\n",
                "if exists (select 1 from sys.external_file_formats where name = 'csv_ff') drop external file format csv_ff;\r\n",
                "create external file format csv_ff\r\n",
                "with (\r\n",
                "    format_type = delimitedtext,\r\n",
                "    format_options(\r\n",
                "        field_terminator = ',',\r\n",
                "        string_delimiter = '\"',\r\n",
                "        use_type_default = true\r\n",
                "    )\r\n",
                ");"
            ],
            "metadata": {
                "azdata_cell_guid": "a91caf9a-dfc9-4763-87fd-a8bbc4f13b3b"
            },
            "outputs": [
                {
                    "output_type": "display_data",
                    "data": {
                        "text/html": "Commands completed successfully."
                    },
                    "metadata": {}
                },
                {
                    "output_type": "display_data",
                    "data": {
                        "text/html": "Total execution time: 00:00:01.040"
                    },
                    "metadata": {}
                }
            ],
            "execution_count": 4
        },
        {
            "cell_type": "markdown",
            "source": [
                "## 🎁 CETAS - Create External Table As Select (out-bound)"
            ],
            "metadata": {
                "azdata_cell_guid": "e4d16f12-8106-4346-ac93-2e59e1d4441a"
            }
        },
        {
            "cell_type": "code",
            "source": [
                "if exists (select * from sys.external_tables where name ='extBand1') drop external table extBand1;\r\n",
                "if exists (select * from sys.external_tables where name ='extBand2') drop external table extBand2;\r\n",
                "if exists (select * from sys.external_tables where name ='extBand3') drop external table extBand3;\r\n",
                "if exists (select * from sys.external_tables where name ='cetasBand') drop external table cetasBand;\r\n",
                "if exists (select * from sys.external_tables where name ='cetasDevs') drop external table cetasDevs;"
            ],
            "metadata": {
                "azdata_cell_guid": "e2313e9e-1033-4a91-a2eb-bd421557271c"
            },
            "outputs": [
                {
                    "output_type": "display_data",
                    "data": {
                        "text/html": "Commands completed successfully."
                    },
                    "metadata": {}
                },
                {
                    "output_type": "display_data",
                    "data": {
                        "text/html": "Total execution time: 00:00:00.718"
                    },
                    "metadata": {}
                }
            ],
            "execution_count": 138
        },
        {
            "cell_type": "code",
            "source": [
                "create external table extBand1 \r\n",
                "-- (\r\n",
                "--     BandId  int,\r\n",
                "--     Band    nvarchar(50),\r\n",
                "--     Album   nvarchar(50)\r\n",
                "-- )\r\n",
                "with (   \r\n",
                "    location = 'extBand1',  \r\n",
                "    data_source = hiramblob_ds,  \r\n",
                "    file_format = parquet_ff  \r\n",
                ")\r\n",
                "as \r\n",
                "    select * from dbo.Band;\r\n",
                "go\r\n",
                "\r\n",
                "create external table extBand2\r\n",
                "with (   \r\n",
                "    location = 'extBand2',  \r\n",
                "    data_source = hiramblob_ds,  \r\n",
                "    file_format = csv_ff  \r\n",
                ")\r\n",
                "as \r\n",
                "    select * from dbo.Band;\r\n",
                "go\r\n",
                "\r\n",
                "create external table extBand3\r\n",
                "with (   \r\n",
                "    location = 'extBand3',  \r\n",
                "    data_source = hiramblob_ds,  \r\n",
                "    file_format = csv2_ff  \r\n",
                ")\r\n",
                "as \r\n",
                "    select * from dbo.Band;"
            ],
            "metadata": {
                "azdata_cell_guid": "b58fa081-4826-4870-ba0f-97b1830c730f"
            },
            "outputs": [],
            "execution_count": 126
        },
        {
            "cell_type": "code",
            "source": [
                "create external table extBand4\r\n",
                "with (   \r\n",
                "    location = 'extBand4',  \r\n",
                "    data_source = lakehiram_prod,  \r\n",
                "    file_format = csv_ff  \r\n",
                ")\r\n",
                "as \r\n",
                "    select * from dbo.Band;\r\n",
                "go"
            ],
            "metadata": {
                "azdata_cell_guid": "86b76430-ffcf-4de3-8e47-7b579c848821"
            },
            "outputs": [
                {
                    "output_type": "display_data",
                    "data": {
                        "text/html": "(119955 rows affected)"
                    },
                    "metadata": {}
                },
                {
                    "output_type": "display_data",
                    "data": {
                        "text/html": "Total execution time: 00:00:21.232"
                    },
                    "metadata": {}
                }
            ],
            "execution_count": 5
        },
        {
            "cell_type": "code",
            "source": [
                "exec sp_spaceused Band;\r\n",
                "select count(*) from extBand1 union\r\n",
                "select count(*) from extBand2 union\r\n",
                "select count(*) from extBand3\r\n",
                "\r\n",
                "select top 3 * from extBand1 where BandID between 1 and 3 union\r\n",
                "select top 3 * from extBand2 where BandID between 1 and 3 union\r\n",
                "select top 3 * from extBand3 where BandID between 1 and 3 order by bandid ;"
            ],
            "metadata": {
                "azdata_cell_guid": "197c0c67-c60a-419d-a6c5-68dc4525bd14"
            },
            "outputs": [],
            "execution_count": 127
        },
        {
            "cell_type": "markdown",
            "source": [
                "## 🔎 CETAS - Create External Table As Select (in-bound) \r\n",
                "##### https://github.com/microsoft/sql-server-samples/tree/master/samples/features/sql-big-data-cluster/data-virtualization/storage-pool"
            ],
            "metadata": {
                "azdata_cell_guid": "adf20406-2e9f-4ad2-b358-3780ea578d7b"
            }
        },
        {
            "cell_type": "code",
            "source": [
                "if exists (select * from sys.external_tables where name ='cetasBand') drop external table cetasBand;\r\n",
                "if exists (select * from sys.external_tables where name ='cetasDevs') drop external table cetasDevs;"
            ],
            "metadata": {
                "azdata_cell_guid": "b4748d45-b0ed-4413-9797-fff0721ce194"
            },
            "outputs": [],
            "execution_count": 128
        },
        {
            "cell_type": "code",
            "source": [
                "create external table cetasBand (\r\n",
                "    BandId  int,\r\n",
                "    Band    nvarchar(50),\r\n",
                "    Album   nvarchar(50)\r\n",
                ")\r\n",
                "with (\r\n",
                "    location = '/extBand3/',\r\n",
                "    data_source = hiramblob_ds,\r\n",
                "    file_format = csv2_ff,\r\n",
                "    reject_type = value,\r\n",
                "    reject_value = 0\r\n",
                ");\r\n",
                "\r\n",
                "create external table cetasDevs (\r\n",
                "    first   varchar(128),\r\n",
                "    last    varchar(128)\r\n",
                ")\r\n",
                "with (\r\n",
                "    location = 'devs.csv',\r\n",
                "    data_source = hiramblob_ds,\r\n",
                "    file_format = csv2_ff,\r\n",
                "    reject_type = value,\r\n",
                "    reject_value = 0\r\n",
                ");\r\n",
                ""
            ],
            "metadata": {
                "azdata_cell_guid": "3ca5f38d-8e56-4a31-910c-0dc37eeeb41e"
            },
            "outputs": [],
            "execution_count": 129
        },
        {
            "cell_type": "code",
            "source": [
                "sp_spaceused cetasBand\r\n",
                "go \r\n",
                "sp_spaceused cetasDevs\r\n",
                "go\r\n",
                "\r\n",
                "select count(*) from cetasBand;\r\n",
                "select count(*) from cetasDevs;\r\n",
                "select top 100 * from cetasBand order by BandId;\r\n",
                "select top 100 * from cetasDevs;"
            ],
            "metadata": {
                "azdata_cell_guid": "fe9a936c-09a7-451b-aaf3-a7ebf0006f2b"
            },
            "outputs": [],
            "execution_count": 130
        },
        {
            "cell_type": "markdown",
            "source": [
                "## 💀 DML Operations"
            ],
            "metadata": {
                "azdata_cell_guid": "a7300b0c-a24b-4379-9c47-b47e2e767057"
            }
        },
        {
            "cell_type": "code",
            "source": [
                "insert cetasDevs select 'ocean','fleitas';\r\n",
                ""
            ],
            "metadata": {
                "azdata_cell_guid": "0d12bde9-15f2-4025-8578-f6577cc3f826"
            },
            "outputs": [],
            "execution_count": 136
        },
        {
            "cell_type": "code",
            "source": [
                "select * from cetasDevs\r\n",
                "go\r\n",
                "delete from cetasDevs where first='hiram'\r\n",
                "go\r\n",
                "insert cetasDevs select 'ocean','fleitas';\r\n",
                "\r\n",
                "--not needed on ASDW\r\n",
                "--sp_configure 'allow polybase export', 1; reconfigure; "
            ],
            "metadata": {
                "azdata_cell_guid": "ff698e69-5cab-4b96-86fe-bef393bec20c"
            },
            "outputs": [],
            "execution_count": 137
        }
    ]
}