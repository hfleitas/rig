{
    "metadata": {
        "kernelspec": {
            "name": "SQL",
            "display_name": "SQL",
            "language": "sql"
        },
        "language_info": {
            "name": "sql",
            "version": ""
        }
    },
    "nbformat_minor": 2,
    "nbformat": 4,
    "cells": [
        {
            "cell_type": "markdown",
            "source": [
                "## 🛫 External Stuff"
            ],
            "metadata": {
                "azdata_cell_guid": "cf764d19-bbd2-4673-b4ed-42f9ad73c324"
            }
        },
        {
            "cell_type": "markdown",
            "source": [
                "### 🚗 DMVs"
            ],
            "metadata": {
                "azdata_cell_guid": "ed3813f8-1e71-4af6-b23f-761045cc2521"
            }
        },
        {
            "cell_type": "code",
            "source": [
                "set nocount on; \n",
                "select * from sys.database_scoped_credentials;\n",
                "select * from sys.external_data_sources;\n",
                "select * from sys.external_file_formats;"
            ],
            "metadata": {
                "azdata_cell_guid": "992eb144-2822-4d46-a058-5856903fdf6b"
            },
            "outputs": [
                {
                    "output_type": "display_data",
                    "data": {
                        "text/html": "Commands completed successfully."
                    },
                    "metadata": {}
                },
                {
                    "output_type": "display_data",
                    "data": {
                        "text/html": "Total execution time: 00:00:00.154"
                    },
                    "metadata": {}
                },
                {
                    "output_type": "execute_result",
                    "metadata": {},
                    "execution_count": 2,
                    "data": {
                        "application/vnd.dataresource+json": {
                            "schema": {
                                "fields": [
                                    {
                                        "name": "name"
                                    },
                                    {
                                        "name": "principal_id"
                                    },
                                    {
                                        "name": "credential_id"
                                    },
                                    {
                                        "name": "credential_identity"
                                    },
                                    {
                                        "name": "create_date"
                                    },
                                    {
                                        "name": "modify_date"
                                    },
                                    {
                                        "name": "target_type"
                                    },
                                    {
                                        "name": "target_id"
                                    }
                                ]
                            },
                            "data": [
                                {
                                    "0": "AzureStorageCredential",
                                    "1": "1",
                                    "2": "65536",
                                    "3": "sqlva4onabrnvvfrkw",
                                    "4": "2019-09-20 21:03:49.030",
                                    "5": "2019-09-20 21:03:49.030",
                                    "6": "NULL",
                                    "7": "NULL"
                                }
                            ]
                        },
                        "text/html": "<table><tr><th>name</th><th>principal_id</th><th>credential_id</th><th>credential_identity</th><th>create_date</th><th>modify_date</th><th>target_type</th><th>target_id</th></tr><tr><td>AzureStorageCredential</td><td>1</td><td>65536</td><td>sqlva4onabrnvvfrkw</td><td>2019-09-20 21:03:49.030</td><td>2019-09-20 21:03:49.030</td><td>NULL</td><td>NULL</td></tr></table>"
                    }
                },
                {
                    "output_type": "execute_result",
                    "metadata": {},
                    "execution_count": 2,
                    "data": {
                        "application/vnd.dataresource+json": {
                            "schema": {
                                "fields": [
                                    {
                                        "name": "data_source_id"
                                    },
                                    {
                                        "name": "name"
                                    },
                                    {
                                        "name": "location"
                                    },
                                    {
                                        "name": "type_desc"
                                    },
                                    {
                                        "name": "type"
                                    },
                                    {
                                        "name": "resource_manager_location"
                                    },
                                    {
                                        "name": "credential_id"
                                    },
                                    {
                                        "name": "database_name"
                                    },
                                    {
                                        "name": "shard_map_name"
                                    },
                                    {
                                        "name": "connection_options"
                                    },
                                    {
                                        "name": "pushdown"
                                    }
                                ]
                            },
                            "data": [
                                {
                                    "0": "65536",
                                    "1": "MyAzureStorage",
                                    "2": "wasbs://hiramblob@sqlva4onabrnvvfrkw.blob.core.windows.net/",
                                    "3": "HADOOP",
                                    "4": "0",
                                    "5": "NULL",
                                    "6": "65536",
                                    "7": "NULL",
                                    "8": "NULL",
                                    "9": "NULL",
                                    "10": "ON"
                                }
                            ]
                        },
                        "text/html": "<table><tr><th>data_source_id</th><th>name</th><th>location</th><th>type_desc</th><th>type</th><th>resource_manager_location</th><th>credential_id</th><th>database_name</th><th>shard_map_name</th><th>connection_options</th><th>pushdown</th></tr><tr><td>65536</td><td>MyAzureStorage</td><td>wasbs://hiramblob@sqlva4onabrnvvfrkw.blob.core.windows.net/</td><td>HADOOP</td><td>0</td><td>NULL</td><td>65536</td><td>NULL</td><td>NULL</td><td>NULL</td><td>ON</td></tr></table>"
                    }
                },
                {
                    "output_type": "execute_result",
                    "metadata": {},
                    "execution_count": 2,
                    "data": {
                        "application/vnd.dataresource+json": {
                            "schema": {
                                "fields": [
                                    {
                                        "name": "file_format_id"
                                    },
                                    {
                                        "name": "name"
                                    },
                                    {
                                        "name": "format_type"
                                    },
                                    {
                                        "name": "field_terminator"
                                    },
                                    {
                                        "name": "string_delimiter"
                                    },
                                    {
                                        "name": "date_format"
                                    },
                                    {
                                        "name": "use_type_default"
                                    },
                                    {
                                        "name": "serde_method"
                                    },
                                    {
                                        "name": "row_terminator"
                                    },
                                    {
                                        "name": "encoding"
                                    },
                                    {
                                        "name": "data_compression"
                                    },
                                    {
                                        "name": "first_row"
                                    }
                                ]
                            },
                            "data": [
                                {
                                    "0": "65539",
                                    "1": "parquet_file",
                                    "2": "PARQUET",
                                    "3": "NULL",
                                    "4": "",
                                    "5": "",
                                    "6": "0",
                                    "7": "NULL",
                                    "8": "NULL",
                                    "9": "NULL",
                                    "10": "org.apache.hadoop.io.compress.SnappyCodec",
                                    "11": "NULL"
                                },
                                {
                                    "0": "65542",
                                    "1": "csv2",
                                    "2": "DELIMITEDTEXT",
                                    "3": ",",
                                    "4": "\"",
                                    "5": "",
                                    "6": "1",
                                    "7": "NULL",
                                    "8": "\\n",
                                    "9": "UTF8",
                                    "10": "NULL",
                                    "11": "2"
                                },
                                {
                                    "0": "65543",
                                    "1": "csv",
                                    "2": "DELIMITEDTEXT",
                                    "3": ",",
                                    "4": "\"",
                                    "5": "",
                                    "6": "1",
                                    "7": "NULL",
                                    "8": "\\n",
                                    "9": "UTF8",
                                    "10": "NULL",
                                    "11": "1"
                                }
                            ]
                        },
                        "text/html": "<table><tr><th>file_format_id</th><th>name</th><th>format_type</th><th>field_terminator</th><th>string_delimiter</th><th>date_format</th><th>use_type_default</th><th>serde_method</th><th>row_terminator</th><th>encoding</th><th>data_compression</th><th>first_row</th></tr><tr><td>65539</td><td>parquet_file</td><td>PARQUET</td><td>NULL</td><td></td><td></td><td>0</td><td>NULL</td><td>NULL</td><td>NULL</td><td>org.apache.hadoop.io.compress.SnappyCodec</td><td>NULL</td></tr><tr><td>65542</td><td>csv2</td><td>DELIMITEDTEXT</td><td>,</td><td>&quot;</td><td></td><td>1</td><td>NULL</td><td>\\n</td><td>UTF8</td><td>NULL</td><td>2</td></tr><tr><td>65543</td><td>csv</td><td>DELIMITEDTEXT</td><td>,</td><td>&quot;</td><td></td><td>1</td><td>NULL</td><td>\\n</td><td>UTF8</td><td>NULL</td><td>1</td></tr></table>"
                    }
                }
            ],
            "execution_count": 2
        },
        {
            "cell_type": "markdown",
            "source": [
                "## ⚓ Infrastructure"
            ],
            "metadata": {
                "azdata_cell_guid": "69e0a8ef-b5cb-4877-8c7c-da8b718692c3"
            }
        },
        {
            "cell_type": "code",
            "source": [
                "create database scoped credential hiramblob_cred\r\n",
                "with \r\n",
                "     identity = 'sqlva4onabrnvvfrkw',\r\n",
                "     secret = 'k7b/T5FY9nG77Bg10i9ATE3/+KBuOe6bpbbHTVj+tklh5d54HvqxKYO2Mxvr2bo98BHX8Hc36VUUVPnqUAdcLg==' --mykey\r\n",
                ";\r\n",
                "\r\n",
                "create external data source hiramblob_ds\r\n",
                "with (    \r\n",
                "    location = 'wasbs://hiramblob@sqlva4onabrnvvfrkw.blob.core.windows.net/',\r\n",
                "    credential = hiramblob_cred,\r\n",
                "    type = HADOOP\r\n",
                ");"
            ],
            "metadata": {
                "azdata_cell_guid": "7e236065-85e9-4f52-8888-4422578e3dc3"
            },
            "outputs": [],
            "execution_count": 0
        },
        {
            "cell_type": "markdown",
            "source": [
                "## 📝 Files"
            ],
            "metadata": {
                "azdata_cell_guid": "40063537-695d-49a2-a2bc-0855471ef849"
            }
        },
        {
            "cell_type": "code",
            "source": [
                "if exists (select 1 from sys.external_file_formats where name = 'parquet_ff') drop external file format parquet_ff;\r\n",
                "create external file format parquet_ff\r\n",
                "with (\r\n",
                "    format_type = parquet,  \r\n",
                "    data_compression = 'org.apache.hadoop.io.compress.SnappyCodec'  \r\n",
                ");\r\n",
                "\r\n",
                "if exists (select 1 from sys.external_file_formats where name = 'csv2_ff') drop external file format csv2_ff;\r\n",
                "create external file format csv2_ff\r\n",
                "with (\r\n",
                "    format_type = delimitedtext,\r\n",
                "    format_options(\r\n",
                "        field_terminator = ',',\r\n",
                "        string_delimiter = '\"',\r\n",
                "        first_row = 2, \r\n",
                "        use_type_default = true\r\n",
                "    )\r\n",
                ");\r\n",
                "\r\n",
                "if exists (select 1 from sys.external_file_formats where name = 'csv_ff') drop external file format csv_ff;\r\n",
                "create external file format csv_ff\r\n",
                "with (\r\n",
                "    format_type = delimitedtext,\r\n",
                "    format_options(\r\n",
                "        field_terminator = ',',\r\n",
                "        string_delimiter = '\"',\r\n",
                "        use_type_default = true\r\n",
                "    )\r\n",
                ");"
            ],
            "metadata": {
                "azdata_cell_guid": "a91caf9a-dfc9-4763-87fd-a8bbc4f13b3b"
            },
            "outputs": [],
            "execution_count": 0
        },
        {
            "cell_type": "markdown",
            "source": [
                "## 🎁 CETAS - Create External Table As Select - outbound"
            ],
            "metadata": {
                "azdata_cell_guid": "e4d16f12-8106-4346-ac93-2e59e1d4441a"
            }
        },
        {
            "cell_type": "code",
            "source": [
                "if exists (select * from sys.external_tables where name ='demoparquet')\r\n",
                "begin \r\n",
                "    drop external table demoparquet;\r\n",
                "end;\r\n",
                "if exists (select * from sys.external_tables where name ='extBand')\r\n",
                "begin \r\n",
                "    drop external table extBand;\r\n",
                "end;\r\n",
                "if exists (select * from sys.external_tables where name ='extBand2')\r\n",
                "begin \r\n",
                "    drop external table extBand2;\r\n",
                "end;"
            ],
            "metadata": {
                "azdata_cell_guid": "e2313e9e-1033-4a91-a2eb-bd421557271c"
            },
            "outputs": [],
            "execution_count": 0
        },
        {
            "cell_type": "code",
            "source": [
                "create external table demoparquet (\r\n",
                "    BandId  int,\r\n",
                "    Band    nvarchar(50),\r\n",
                "    Album   nvarchar(50)\r\n",
                ")\r\n",
                "with (   \r\n",
                "    location = 'demoparquet',  \r\n",
                "    data_source = hiramblob_ds,  \r\n",
                "    file_format = parquet_ff  \r\n",
                ")\r\n",
                "as \r\n",
                "    select * from dbo.Band;\r\n",
                "go\r\n",
                "\r\n",
                "create external table extBand\r\n",
                "with (   \r\n",
                "    location = 'extBand',  \r\n",
                "    data_source = hiramblob_ds,  \r\n",
                "    file_format = csv_ff  \r\n",
                ")\r\n",
                "as \r\n",
                "    select * from dbo.Band;\r\n",
                "go\r\n",
                "\r\n",
                "create external table extBand2\r\n",
                "with (   \r\n",
                "    location = 'extBand2',  \r\n",
                "    data_source = hiramblob_ds,  \r\n",
                "    file_format = csv2_ff  \r\n",
                ")\r\n",
                "as \r\n",
                "select * from dbo.Band;"
            ],
            "metadata": {
                "azdata_cell_guid": "b58fa081-4826-4870-ba0f-97b1830c730f"
            },
            "outputs": [],
            "execution_count": 0
        },
        {
            "cell_type": "code",
            "source": [
                "exec sp_spaceused Band;\r\n",
                "select count(*) from extBand;\r\n",
                "select count(*) from extBand2;"
            ],
            "metadata": {
                "azdata_cell_guid": "197c0c67-c60a-419d-a6c5-68dc4525bd14"
            },
            "outputs": [],
            "execution_count": 0
        }
    ]
}